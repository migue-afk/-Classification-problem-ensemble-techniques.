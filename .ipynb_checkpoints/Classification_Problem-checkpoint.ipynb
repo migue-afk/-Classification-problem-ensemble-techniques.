{
 "cells": [
  {
   "cell_type": "markdown",
   "id": "11729020",
   "metadata": {},
   "source": [
    "# Data generation for the classification problem"
   ]
  },
  {
   "cell_type": "code",
   "execution_count": 24,
   "id": "59c3aed2",
   "metadata": {},
   "outputs": [],
   "source": [
    "# Import libraries\n",
    "import pandas as pd\n",
    "from sklearn.datasets import make_classification\n",
    "from sklearn.model_selection import train_test_split"
   ]
  },
  {
   "cell_type": "code",
   "execution_count": 25,
   "id": "75206417",
   "metadata": {},
   "outputs": [],
   "source": [
    "# Define data for make_classification()\n",
    "\n",
    "samples = 220\n",
    "features = 14\n",
    "informative = 12\n",
    "bias = 2\n",
    "noise = 50\n",
    "seed = 2224425784"
   ]
  },
  {
   "cell_type": "code",
   "execution_count": 26,
   "id": "96770ebf",
   "metadata": {},
   "outputs": [],
   "source": [
    "# Create data in X, y from make_clasdification\n",
    "X, y = make_classification(n_samples=samples, n_features=features, n_informative=informative, n_redundant=bias, shift=noise, shuffle=False, random_state=seed)"
   ]
  },
  {
   "cell_type": "code",
   "execution_count": 27,
   "id": "ffd8dbc8",
   "metadata": {},
   "outputs": [
    {
     "name": "stdout",
     "output_type": "stream",
     "text": [
      "<class 'pandas.core.frame.DataFrame'>\n",
      "Index: 220 entries, 0 to 1\n",
      "Data columns (total 14 columns):\n",
      " #   Column  Non-Null Count  Dtype  \n",
      "---  ------  --------------  -----  \n",
      " 0   0       220 non-null    float64\n",
      " 1   1       220 non-null    float64\n",
      " 2   2       220 non-null    float64\n",
      " 3   3       220 non-null    float64\n",
      " 4   4       220 non-null    float64\n",
      " 5   5       220 non-null    float64\n",
      " 6   6       220 non-null    float64\n",
      " 7   7       220 non-null    float64\n",
      " 8   8       220 non-null    float64\n",
      " 9   9       220 non-null    float64\n",
      " 10  10      220 non-null    float64\n",
      " 11  11      220 non-null    float64\n",
      " 12  12      220 non-null    float64\n",
      " 13  13      220 non-null    float64\n",
      "dtypes: float64(14)\n",
      "memory usage: 25.8 KB\n"
     ]
    }
   ],
   "source": [
    "# Show info dataframe\n",
    "df = pd.DataFrame(X,y)\n",
    "df.info()"
   ]
  },
  {
   "cell_type": "markdown",
   "id": "2a709e80",
   "metadata": {},
   "source": [
    "When creating the df data frame, 220 entries were created in 14 columns, this data can vary when defining new data in parameters, samples, characteristics, informational, etc."
   ]
  },
  {
   "cell_type": "code",
   "execution_count": 28,
   "id": "dfb82ec7",
   "metadata": {},
   "outputs": [],
   "source": [
    "# Split data \n",
    "X_train , X_test , y_train , y_test = train_test_split(X,y, test_size =0.09, shuffle=True, random_state=3, stratify=y)"
   ]
  },
  {
   "cell_type": "markdown",
   "id": "26efee23",
   "metadata": {},
   "source": [
    "The data required for the test is 20 and the training data is 200, for this, the parameters used for this specific case are the test size = 0.09, the value of 0.09\n",
    "comes from the relationship between the observations required for training and the observations\n",
    "tions of the test that is, 20/200 = 0.1, making a small adjustment we have the value of 0.09,\n",
    "Additionally, we place the parameter stratify = y, so that the random return\n",
    "obtain the appropriate percentage of 0 and 1 corresponding to the categorical variable (0, 1), printing the values on the screen we can verify that the changes have indeed been\n",
    "done."
   ]
  },
  {
   "cell_type": "code",
   "execution_count": 29,
   "id": "782d130b",
   "metadata": {},
   "outputs": [
    {
     "name": "stdout",
     "output_type": "stream",
     "text": [
      "200 X_train\n",
      "200 y_train\n",
      "20 X_test\n",
      "20 y_test\n"
     ]
    }
   ],
   "source": [
    "print(len(X_train), 'X_train')\n",
    "print(len(y_train), 'y_train')\n",
    "print(len(X_test), 'X_test')\n",
    "print(len(y_test), 'y_test')\n"
   ]
  },
  {
   "cell_type": "code",
   "execution_count": 30,
   "id": "90bd4bdf",
   "metadata": {},
   "outputs": [
    {
     "name": "stdout",
     "output_type": "stream",
     "text": [
      "<class 'pandas.core.frame.DataFrame'>\n",
      "Index: 200 entries, 1 to 0\n",
      "Data columns (total 14 columns):\n",
      " #   Column  Non-Null Count  Dtype  \n",
      "---  ------  --------------  -----  \n",
      " 0   0       200 non-null    float64\n",
      " 1   1       200 non-null    float64\n",
      " 2   2       200 non-null    float64\n",
      " 3   3       200 non-null    float64\n",
      " 4   4       200 non-null    float64\n",
      " 5   5       200 non-null    float64\n",
      " 6   6       200 non-null    float64\n",
      " 7   7       200 non-null    float64\n",
      " 8   8       200 non-null    float64\n",
      " 9   9       200 non-null    float64\n",
      " 10  10      200 non-null    float64\n",
      " 11  11      200 non-null    float64\n",
      " 12  12      200 non-null    float64\n",
      " 13  13      200 non-null    float64\n",
      "dtypes: float64(14)\n",
      "memory usage: 23.4 KB\n",
      "<class 'pandas.core.frame.DataFrame'>\n",
      "Index: 20 entries, 1 to 0\n",
      "Data columns (total 14 columns):\n",
      " #   Column  Non-Null Count  Dtype  \n",
      "---  ------  --------------  -----  \n",
      " 0   0       20 non-null     float64\n",
      " 1   1       20 non-null     float64\n",
      " 2   2       20 non-null     float64\n",
      " 3   3       20 non-null     float64\n",
      " 4   4       20 non-null     float64\n",
      " 5   5       20 non-null     float64\n",
      " 6   6       20 non-null     float64\n",
      " 7   7       20 non-null     float64\n",
      " 8   8       20 non-null     float64\n",
      " 9   9       20 non-null     float64\n",
      " 10  10      20 non-null     float64\n",
      " 11  11      20 non-null     float64\n",
      " 12  12      20 non-null     float64\n",
      " 13  13      20 non-null     float64\n",
      "dtypes: float64(14)\n",
      "memory usage: 2.3 KB\n"
     ]
    }
   ],
   "source": [
    "# Description of training data and test data\n",
    "dftrain = pd.DataFrame(X_train ,y_train) \n",
    "dftrain.info()\n",
    "#dftrain.describe()\n",
    "dftest = pd.DataFrame(X_test ,y_test)\n",
    "dftest.info() \n",
    "#dftest.describe()"
   ]
  },
  {
   "cell_type": "markdown",
   "id": "3c6e3257",
   "metadata": {},
   "source": [
    "# Assembly models"
   ]
  },
  {
   "cell_type": "code",
   "execution_count": 31,
   "id": "1f074d2c",
   "metadata": {},
   "outputs": [],
   "source": [
    "# Import libraries\n",
    "from sklearn.ensemble import BaggingClassifier\n",
    "from sklearn.tree import DecisionTreeClassifier"
   ]
  },
  {
   "cell_type": "markdown",
   "id": "2cc16475",
   "metadata": {},
   "source": [
    "## BagginClassifier"
   ]
  },
  {
   "cell_type": "code",
   "execution_count": 32,
   "id": "55b2e504",
   "metadata": {},
   "outputs": [],
   "source": [
    "bag_clf = BaggingClassifier(\n",
    "    DecisionTreeClassifier(random_state = 3), n_estimators =500,\n",
    "    max_samples = 75, bootstrap=True, random_state = 3)"
   ]
  },
  {
   "cell_type": "markdown",
   "id": "632430b0",
   "metadata": {},
   "source": [
    "### Adjust Model"
   ]
  },
  {
   "cell_type": "code",
   "execution_count": 33,
   "id": "bf4b85d6",
   "metadata": {},
   "outputs": [],
   "source": [
    "bag_clf.fit(X_train, y_train)\n",
    "y_pred_bc = bag_clf.predict(X_test)"
   ]
  },
  {
   "cell_type": "markdown",
   "id": "4e9443ec",
   "metadata": {},
   "source": [
    "### Result"
   ]
  },
  {
   "cell_type": "code",
   "execution_count": 44,
   "id": "f09b48c9",
   "metadata": {},
   "outputs": [
    {
     "name": "stdout",
     "output_type": "stream",
     "text": [
      "0.75\n"
     ]
    }
   ],
   "source": [
    "from sklearn.metrics import accuracy_score\n",
    "pbc = accuracy_score(y_test, y_pred_bc)\n",
    "print(pbc)"
   ]
  },
  {
   "cell_type": "markdown",
   "id": "811f6bc8",
   "metadata": {},
   "source": [
    "## Pasting"
   ]
  },
  {
   "cell_type": "code",
   "execution_count": 45,
   "id": "8809b778",
   "metadata": {},
   "outputs": [],
   "source": [
    "pas_clf = BaggingClassifier (\n",
    "DecisionTreeClassifier ( random_state = 3) , n_estimators = 500 ,\n",
    "max_samples = 75 , bootstrap = False , random_state = 3)"
   ]
  },
  {
   "cell_type": "markdown",
   "id": "0d0fbdaf",
   "metadata": {},
   "source": [
    "### Adjust Model"
   ]
  },
  {
   "cell_type": "code",
   "execution_count": 46,
   "id": "7ecb2b8d",
   "metadata": {},
   "outputs": [
    {
     "data": {
      "text/html": [
       "<style>#sk-container-id-3 {color: black;background-color: white;}#sk-container-id-3 pre{padding: 0;}#sk-container-id-3 div.sk-toggleable {background-color: white;}#sk-container-id-3 label.sk-toggleable__label {cursor: pointer;display: block;width: 100%;margin-bottom: 0;padding: 0.3em;box-sizing: border-box;text-align: center;}#sk-container-id-3 label.sk-toggleable__label-arrow:before {content: \"▸\";float: left;margin-right: 0.25em;color: #696969;}#sk-container-id-3 label.sk-toggleable__label-arrow:hover:before {color: black;}#sk-container-id-3 div.sk-estimator:hover label.sk-toggleable__label-arrow:before {color: black;}#sk-container-id-3 div.sk-toggleable__content {max-height: 0;max-width: 0;overflow: hidden;text-align: left;background-color: #f0f8ff;}#sk-container-id-3 div.sk-toggleable__content pre {margin: 0.2em;color: black;border-radius: 0.25em;background-color: #f0f8ff;}#sk-container-id-3 input.sk-toggleable__control:checked~div.sk-toggleable__content {max-height: 200px;max-width: 100%;overflow: auto;}#sk-container-id-3 input.sk-toggleable__control:checked~label.sk-toggleable__label-arrow:before {content: \"▾\";}#sk-container-id-3 div.sk-estimator input.sk-toggleable__control:checked~label.sk-toggleable__label {background-color: #d4ebff;}#sk-container-id-3 div.sk-label input.sk-toggleable__control:checked~label.sk-toggleable__label {background-color: #d4ebff;}#sk-container-id-3 input.sk-hidden--visually {border: 0;clip: rect(1px 1px 1px 1px);clip: rect(1px, 1px, 1px, 1px);height: 1px;margin: -1px;overflow: hidden;padding: 0;position: absolute;width: 1px;}#sk-container-id-3 div.sk-estimator {font-family: monospace;background-color: #f0f8ff;border: 1px dotted black;border-radius: 0.25em;box-sizing: border-box;margin-bottom: 0.5em;}#sk-container-id-3 div.sk-estimator:hover {background-color: #d4ebff;}#sk-container-id-3 div.sk-parallel-item::after {content: \"\";width: 100%;border-bottom: 1px solid gray;flex-grow: 1;}#sk-container-id-3 div.sk-label:hover label.sk-toggleable__label {background-color: #d4ebff;}#sk-container-id-3 div.sk-serial::before {content: \"\";position: absolute;border-left: 1px solid gray;box-sizing: border-box;top: 0;bottom: 0;left: 50%;z-index: 0;}#sk-container-id-3 div.sk-serial {display: flex;flex-direction: column;align-items: center;background-color: white;padding-right: 0.2em;padding-left: 0.2em;position: relative;}#sk-container-id-3 div.sk-item {position: relative;z-index: 1;}#sk-container-id-3 div.sk-parallel {display: flex;align-items: stretch;justify-content: center;background-color: white;position: relative;}#sk-container-id-3 div.sk-item::before, #sk-container-id-3 div.sk-parallel-item::before {content: \"\";position: absolute;border-left: 1px solid gray;box-sizing: border-box;top: 0;bottom: 0;left: 50%;z-index: -1;}#sk-container-id-3 div.sk-parallel-item {display: flex;flex-direction: column;z-index: 1;position: relative;background-color: white;}#sk-container-id-3 div.sk-parallel-item:first-child::after {align-self: flex-end;width: 50%;}#sk-container-id-3 div.sk-parallel-item:last-child::after {align-self: flex-start;width: 50%;}#sk-container-id-3 div.sk-parallel-item:only-child::after {width: 0;}#sk-container-id-3 div.sk-dashed-wrapped {border: 1px dashed gray;margin: 0 0.4em 0.5em 0.4em;box-sizing: border-box;padding-bottom: 0.4em;background-color: white;}#sk-container-id-3 div.sk-label label {font-family: monospace;font-weight: bold;display: inline-block;line-height: 1.2em;}#sk-container-id-3 div.sk-label-container {text-align: center;}#sk-container-id-3 div.sk-container {/* jupyter's `normalize.less` sets `[hidden] { display: none; }` but bootstrap.min.css set `[hidden] { display: none !important; }` so we also need the `!important` here to be able to override the default hidden behavior on the sphinx rendered scikit-learn.org. See: https://github.com/scikit-learn/scikit-learn/issues/21755 */display: inline-block !important;position: relative;}#sk-container-id-3 div.sk-text-repr-fallback {display: none;}</style><div id=\"sk-container-id-3\" class=\"sk-top-container\"><div class=\"sk-text-repr-fallback\"><pre>BaggingClassifier(bootstrap=False,\n",
       "                  estimator=DecisionTreeClassifier(random_state=3),\n",
       "                  max_samples=75, n_estimators=500, random_state=3)</pre><b>In a Jupyter environment, please rerun this cell to show the HTML representation or trust the notebook. <br />On GitHub, the HTML representation is unable to render, please try loading this page with nbviewer.org.</b></div><div class=\"sk-container\" hidden><div class=\"sk-item sk-dashed-wrapped\"><div class=\"sk-label-container\"><div class=\"sk-label sk-toggleable\"><input class=\"sk-toggleable__control sk-hidden--visually\" id=\"sk-estimator-id-7\" type=\"checkbox\" ><label for=\"sk-estimator-id-7\" class=\"sk-toggleable__label sk-toggleable__label-arrow\">BaggingClassifier</label><div class=\"sk-toggleable__content\"><pre>BaggingClassifier(bootstrap=False,\n",
       "                  estimator=DecisionTreeClassifier(random_state=3),\n",
       "                  max_samples=75, n_estimators=500, random_state=3)</pre></div></div></div><div class=\"sk-parallel\"><div class=\"sk-parallel-item\"><div class=\"sk-item\"><div class=\"sk-label-container\"><div class=\"sk-label sk-toggleable\"><input class=\"sk-toggleable__control sk-hidden--visually\" id=\"sk-estimator-id-8\" type=\"checkbox\" ><label for=\"sk-estimator-id-8\" class=\"sk-toggleable__label sk-toggleable__label-arrow\">estimator: DecisionTreeClassifier</label><div class=\"sk-toggleable__content\"><pre>DecisionTreeClassifier(random_state=3)</pre></div></div></div><div class=\"sk-serial\"><div class=\"sk-item\"><div class=\"sk-estimator sk-toggleable\"><input class=\"sk-toggleable__control sk-hidden--visually\" id=\"sk-estimator-id-9\" type=\"checkbox\" ><label for=\"sk-estimator-id-9\" class=\"sk-toggleable__label sk-toggleable__label-arrow\">DecisionTreeClassifier</label><div class=\"sk-toggleable__content\"><pre>DecisionTreeClassifier(random_state=3)</pre></div></div></div></div></div></div></div></div></div></div>"
      ],
      "text/plain": [
       "BaggingClassifier(bootstrap=False,\n",
       "                  estimator=DecisionTreeClassifier(random_state=3),\n",
       "                  max_samples=75, n_estimators=500, random_state=3)"
      ]
     },
     "execution_count": 46,
     "metadata": {},
     "output_type": "execute_result"
    }
   ],
   "source": [
    "pas_clf.fit ( X_train , y_train )"
   ]
  },
  {
   "cell_type": "code",
   "execution_count": 53,
   "id": "50b55e4f",
   "metadata": {},
   "outputs": [
    {
     "name": "stdout",
     "output_type": "stream",
     "text": [
      "0.75\n"
     ]
    }
   ],
   "source": [
    "y_pred_pas = pas_clf.predict ( X_test )\n",
    "ppas = accuracy_score(y_test , y_pred_pas)\n",
    "print (ppas)"
   ]
  },
  {
   "cell_type": "markdown",
   "id": "8bd669df",
   "metadata": {},
   "source": [
    "## Assembly model Ramdom Forest"
   ]
  },
  {
   "cell_type": "code",
   "execution_count": 48,
   "id": "4ecccd35",
   "metadata": {},
   "outputs": [],
   "source": [
    "from sklearn . ensemble import RandomForestClassifier\n",
    "rnd_clf = RandomForestClassifier ( n_estimators = 500 , max_leaf_nodes =\n",
    "4 , random_state = 3 , max_samples = 75)"
   ]
  },
  {
   "cell_type": "markdown",
   "id": "a419f813",
   "metadata": {},
   "source": [
    "### Adjust model"
   ]
  },
  {
   "cell_type": "code",
   "execution_count": 55,
   "id": "57608f6f",
   "metadata": {},
   "outputs": [
    {
     "name": "stdout",
     "output_type": "stream",
     "text": [
      "0.75\n"
     ]
    }
   ],
   "source": [
    "rnd_clf.fit(X_train,y_train)\n",
    "y_pred_rf = rnd_clf . predict ( X_test )\n",
    "prf = accuracy_score(y_test,y_pred_rf)\n",
    "print (prf)"
   ]
  },
  {
   "cell_type": "markdown",
   "id": "cbbff862",
   "metadata": {},
   "source": [
    "## Assembly model Gradient Boosting"
   ]
  },
  {
   "cell_type": "code",
   "execution_count": 50,
   "id": "14a24b4d",
   "metadata": {},
   "outputs": [],
   "source": [
    "from sklearn.ensemble import GradientBoostingClassifier\n",
    "gb_clf = GradientBoostingClassifier ( n_estimators = 500 , random_state= 3)"
   ]
  },
  {
   "cell_type": "markdown",
   "id": "21961460",
   "metadata": {},
   "source": [
    "### Adjust model"
   ]
  },
  {
   "cell_type": "code",
   "execution_count": 57,
   "id": "f2428d69",
   "metadata": {},
   "outputs": [
    {
     "name": "stdout",
     "output_type": "stream",
     "text": [
      "0.85\n"
     ]
    }
   ],
   "source": [
    "gb_clf.fit (X_train,y_train ) \n",
    "y_pred_gb = gb_clf.predict ( X_test ) \n",
    "pboo = accuracy_score(y_test,y_pred_gb)\n",
    "print(pboo)"
   ]
  },
  {
   "cell_type": "markdown",
   "id": "0b7b8837",
   "metadata": {},
   "source": [
    "## Analysis"
   ]
  },
  {
   "cell_type": "code",
   "execution_count": 66,
   "id": "83e63efc",
   "metadata": {},
   "outputs": [
    {
     "name": "stdout",
     "output_type": "stream",
     "text": [
      "\n",
      " y_test     = Data Testing\n",
      " y_pred_bc  = Baggin Classifier ---> Accuracy 0.75\n",
      " y_pred_pas = Pasting           ---> Accuracy 0.75\n",
      " y_pred_rf  = Random Forest     ---> Accuracy 0.75\n",
      " y_pred_gb  = Gradient Boosting ---> Accuracy 0.85\n"
     ]
    },
    {
     "data": {
      "text/html": [
       "<div>\n",
       "<style scoped>\n",
       "    .dataframe tbody tr th:only-of-type {\n",
       "        vertical-align: middle;\n",
       "    }\n",
       "\n",
       "    .dataframe tbody tr th {\n",
       "        vertical-align: top;\n",
       "    }\n",
       "\n",
       "    .dataframe thead th {\n",
       "        text-align: right;\n",
       "    }\n",
       "</style>\n",
       "<table border=\"1\" class=\"dataframe\">\n",
       "  <thead>\n",
       "    <tr style=\"text-align: right;\">\n",
       "      <th></th>\n",
       "      <th>y_test</th>\n",
       "      <th>y_pred_bc</th>\n",
       "      <th>y_pred_pas</th>\n",
       "      <th>y_pred_rf</th>\n",
       "      <th>y_pred_gb</th>\n",
       "    </tr>\n",
       "  </thead>\n",
       "  <tbody>\n",
       "    <tr>\n",
       "      <th>0</th>\n",
       "      <td>1</td>\n",
       "      <td>1</td>\n",
       "      <td>1</td>\n",
       "      <td>1</td>\n",
       "      <td>1</td>\n",
       "    </tr>\n",
       "    <tr>\n",
       "      <th>1</th>\n",
       "      <td>0</td>\n",
       "      <td>0</td>\n",
       "      <td>0</td>\n",
       "      <td>1</td>\n",
       "      <td>0</td>\n",
       "    </tr>\n",
       "    <tr>\n",
       "      <th>2</th>\n",
       "      <td>0</td>\n",
       "      <td>0</td>\n",
       "      <td>0</td>\n",
       "      <td>0</td>\n",
       "      <td>0</td>\n",
       "    </tr>\n",
       "    <tr>\n",
       "      <th>3</th>\n",
       "      <td>0</td>\n",
       "      <td>0</td>\n",
       "      <td>0</td>\n",
       "      <td>1</td>\n",
       "      <td>0</td>\n",
       "    </tr>\n",
       "    <tr>\n",
       "      <th>4</th>\n",
       "      <td>1</td>\n",
       "      <td>1</td>\n",
       "      <td>1</td>\n",
       "      <td>1</td>\n",
       "      <td>1</td>\n",
       "    </tr>\n",
       "    <tr>\n",
       "      <th>5</th>\n",
       "      <td>1</td>\n",
       "      <td>1</td>\n",
       "      <td>1</td>\n",
       "      <td>1</td>\n",
       "      <td>1</td>\n",
       "    </tr>\n",
       "    <tr>\n",
       "      <th>6</th>\n",
       "      <td>0</td>\n",
       "      <td>1</td>\n",
       "      <td>1</td>\n",
       "      <td>0</td>\n",
       "      <td>1</td>\n",
       "    </tr>\n",
       "    <tr>\n",
       "      <th>7</th>\n",
       "      <td>1</td>\n",
       "      <td>0</td>\n",
       "      <td>0</td>\n",
       "      <td>0</td>\n",
       "      <td>1</td>\n",
       "    </tr>\n",
       "    <tr>\n",
       "      <th>8</th>\n",
       "      <td>0</td>\n",
       "      <td>1</td>\n",
       "      <td>1</td>\n",
       "      <td>1</td>\n",
       "      <td>1</td>\n",
       "    </tr>\n",
       "    <tr>\n",
       "      <th>9</th>\n",
       "      <td>1</td>\n",
       "      <td>1</td>\n",
       "      <td>1</td>\n",
       "      <td>1</td>\n",
       "      <td>1</td>\n",
       "    </tr>\n",
       "    <tr>\n",
       "      <th>10</th>\n",
       "      <td>0</td>\n",
       "      <td>0</td>\n",
       "      <td>0</td>\n",
       "      <td>0</td>\n",
       "      <td>0</td>\n",
       "    </tr>\n",
       "    <tr>\n",
       "      <th>11</th>\n",
       "      <td>0</td>\n",
       "      <td>0</td>\n",
       "      <td>0</td>\n",
       "      <td>0</td>\n",
       "      <td>0</td>\n",
       "    </tr>\n",
       "    <tr>\n",
       "      <th>12</th>\n",
       "      <td>1</td>\n",
       "      <td>1</td>\n",
       "      <td>1</td>\n",
       "      <td>1</td>\n",
       "      <td>1</td>\n",
       "    </tr>\n",
       "    <tr>\n",
       "      <th>13</th>\n",
       "      <td>0</td>\n",
       "      <td>0</td>\n",
       "      <td>0</td>\n",
       "      <td>0</td>\n",
       "      <td>0</td>\n",
       "    </tr>\n",
       "    <tr>\n",
       "      <th>14</th>\n",
       "      <td>1</td>\n",
       "      <td>1</td>\n",
       "      <td>1</td>\n",
       "      <td>1</td>\n",
       "      <td>1</td>\n",
       "    </tr>\n",
       "  </tbody>\n",
       "</table>\n",
       "</div>"
      ],
      "text/plain": [
       "    y_test  y_pred_bc  y_pred_pas  y_pred_rf  y_pred_gb\n",
       "0        1          1           1          1          1\n",
       "1        0          0           0          1          0\n",
       "2        0          0           0          0          0\n",
       "3        0          0           0          1          0\n",
       "4        1          1           1          1          1\n",
       "5        1          1           1          1          1\n",
       "6        0          1           1          0          1\n",
       "7        1          0           0          0          1\n",
       "8        0          1           1          1          1\n",
       "9        1          1           1          1          1\n",
       "10       0          0           0          0          0\n",
       "11       0          0           0          0          0\n",
       "12       1          1           1          1          1\n",
       "13       0          0           0          0          0\n",
       "14       1          1           1          1          1"
      ]
     },
     "execution_count": 66,
     "metadata": {},
     "output_type": "execute_result"
    }
   ],
   "source": [
    "df = pd.DataFrame({\"y_test\": y_test,\"y_pred_bc\": y_pred_bc, \"y_pred_pas\":y_pred_pas, \"y_pred_rf\":y_pred_rf,\"y_pred_gb\":y_pred_gb})\n",
    "print()\n",
    "print(' y_test     = Data Testing\\n',\n",
    "      'y_pred_bc  = Baggin Classifier ---> Accuracy '+str(pbc)+\"\\n\",\n",
    "      'y_pred_pas = Pasting           ---> Accuracy '+str(ppas)+\"\\n\",\n",
    "      'y_pred_rf  = Random Forest     ---> Accuracy '+str(prf)+\"\\n\",\n",
    "      'y_pred_gb  = Gradient Boosting ---> Accuracy '+str(pboo)\n",
    "     )\n",
    "df.head(15)"
   ]
  },
  {
   "cell_type": "markdown",
   "id": "782a2fc0",
   "metadata": {},
   "source": [
    "The best result for the created data frame is the Gradient Boosting ensemble model with 0.85 of hits"
   ]
  }
 ],
 "metadata": {
  "kernelspec": {
   "display_name": "Python 3 (ipykernel)",
   "language": "python",
   "name": "python3"
  },
  "language_info": {
   "codemirror_mode": {
    "name": "ipython",
    "version": 3
   },
   "file_extension": ".py",
   "mimetype": "text/x-python",
   "name": "python",
   "nbconvert_exporter": "python",
   "pygments_lexer": "ipython3",
   "version": "3.11.7"
  },
  "toc": {
   "base_numbering": 1,
   "nav_menu": {},
   "number_sections": true,
   "sideBar": true,
   "skip_h1_title": false,
   "title_cell": "Table of Contents",
   "title_sidebar": "Contents",
   "toc_cell": false,
   "toc_position": {},
   "toc_section_display": true,
   "toc_window_display": false
  }
 },
 "nbformat": 4,
 "nbformat_minor": 5
}
