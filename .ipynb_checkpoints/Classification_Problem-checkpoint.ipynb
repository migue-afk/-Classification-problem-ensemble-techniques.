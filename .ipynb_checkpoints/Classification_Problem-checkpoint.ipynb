{
 "cells": [
  {
   "cell_type": "markdown",
   "id": "11729020",
   "metadata": {},
   "source": [
    "# Data generation for the classification problem"
   ]
  },
  {
   "cell_type": "code",
   "execution_count": 2,
   "id": "59c3aed2",
   "metadata": {},
   "outputs": [],
   "source": [
    "import pandas as pd\n",
    "from sklearn.datasets import make_classification\n",
    "from sklearn.model_selection import train_test_split"
   ]
  },
  {
   "cell_type": "code",
   "execution_count": 3,
   "id": "75206417",
   "metadata": {},
   "outputs": [],
   "source": [
    "samples = 220\n",
    "features = 14\n",
    "informative = 12\n",
    "bias = 2\n",
    "noise = 50\n",
    "seed = 2224425784"
   ]
  },
  {
   "cell_type": "code",
   "execution_count": 4,
   "id": "96770ebf",
   "metadata": {},
   "outputs": [],
   "source": [
    "X, y = make_classification(n_samples=samples, n_features=features, n_informative=informative, n_redundant=bias, shift=noise, shuffle=False, random_state=seed)"
   ]
  },
  {
   "cell_type": "code",
   "execution_count": 5,
   "id": "ffd8dbc8",
   "metadata": {},
   "outputs": [
    {
     "name": "stdout",
     "output_type": "stream",
     "text": [
      "<class 'pandas.core.frame.DataFrame'>\n",
      "Index: 220 entries, 0 to 1\n",
      "Data columns (total 14 columns):\n",
      " #   Column  Non-Null Count  Dtype  \n",
      "---  ------  --------------  -----  \n",
      " 0   0       220 non-null    float64\n",
      " 1   1       220 non-null    float64\n",
      " 2   2       220 non-null    float64\n",
      " 3   3       220 non-null    float64\n",
      " 4   4       220 non-null    float64\n",
      " 5   5       220 non-null    float64\n",
      " 6   6       220 non-null    float64\n",
      " 7   7       220 non-null    float64\n",
      " 8   8       220 non-null    float64\n",
      " 9   9       220 non-null    float64\n",
      " 10  10      220 non-null    float64\n",
      " 11  11      220 non-null    float64\n",
      " 12  12      220 non-null    float64\n",
      " 13  13      220 non-null    float64\n",
      "dtypes: float64(14)\n",
      "memory usage: 25.8 KB\n"
     ]
    }
   ],
   "source": [
    "df = pd.DataFrame(X,y)\n",
    "df.info()"
   ]
  },
  {
   "cell_type": "code",
   "execution_count": 6,
   "id": "dfb82ec7",
   "metadata": {},
   "outputs": [],
   "source": [
    "X_train , X_test , y_train , y_test = train_test_split(X,y, test_size =0.09, shuffle=True, random_state=3, stratify=y)"
   ]
  },
  {
   "cell_type": "code",
   "execution_count": 7,
   "id": "782d130b",
   "metadata": {},
   "outputs": [
    {
     "name": "stdout",
     "output_type": "stream",
     "text": [
      "200 X_train\n",
      "200 y_train\n",
      "20 X_test\n",
      "20 y_test\n"
     ]
    }
   ],
   "source": [
    "print(len(X_train), 'X_train')\n",
    "print(len(y_train), 'y_train')\n",
    "print(len(X_test), 'X_test')\n",
    "print(len(y_test), 'y_test')\n"
   ]
  },
  {
   "cell_type": "code",
   "execution_count": 8,
   "id": "90bd4bdf",
   "metadata": {},
   "outputs": [
    {
     "name": "stdout",
     "output_type": "stream",
     "text": [
      "<class 'pandas.core.frame.DataFrame'>\n",
      "Index: 200 entries, 1 to 0\n",
      "Data columns (total 14 columns):\n",
      " #   Column  Non-Null Count  Dtype  \n",
      "---  ------  --------------  -----  \n",
      " 0   0       200 non-null    float64\n",
      " 1   1       200 non-null    float64\n",
      " 2   2       200 non-null    float64\n",
      " 3   3       200 non-null    float64\n",
      " 4   4       200 non-null    float64\n",
      " 5   5       200 non-null    float64\n",
      " 6   6       200 non-null    float64\n",
      " 7   7       200 non-null    float64\n",
      " 8   8       200 non-null    float64\n",
      " 9   9       200 non-null    float64\n",
      " 10  10      200 non-null    float64\n",
      " 11  11      200 non-null    float64\n",
      " 12  12      200 non-null    float64\n",
      " 13  13      200 non-null    float64\n",
      "dtypes: float64(14)\n",
      "memory usage: 23.4 KB\n",
      "<class 'pandas.core.frame.DataFrame'>\n",
      "Index: 20 entries, 1 to 0\n",
      "Data columns (total 14 columns):\n",
      " #   Column  Non-Null Count  Dtype  \n",
      "---  ------  --------------  -----  \n",
      " 0   0       20 non-null     float64\n",
      " 1   1       20 non-null     float64\n",
      " 2   2       20 non-null     float64\n",
      " 3   3       20 non-null     float64\n",
      " 4   4       20 non-null     float64\n",
      " 5   5       20 non-null     float64\n",
      " 6   6       20 non-null     float64\n",
      " 7   7       20 non-null     float64\n",
      " 8   8       20 non-null     float64\n",
      " 9   9       20 non-null     float64\n",
      " 10  10      20 non-null     float64\n",
      " 11  11      20 non-null     float64\n",
      " 12  12      20 non-null     float64\n",
      " 13  13      20 non-null     float64\n",
      "dtypes: float64(14)\n",
      "memory usage: 2.3 KB\n"
     ]
    },
    {
     "data": {
      "text/html": [
       "<div>\n",
       "<style scoped>\n",
       "    .dataframe tbody tr th:only-of-type {\n",
       "        vertical-align: middle;\n",
       "    }\n",
       "\n",
       "    .dataframe tbody tr th {\n",
       "        vertical-align: top;\n",
       "    }\n",
       "\n",
       "    .dataframe thead th {\n",
       "        text-align: right;\n",
       "    }\n",
       "</style>\n",
       "<table border=\"1\" class=\"dataframe\">\n",
       "  <thead>\n",
       "    <tr style=\"text-align: right;\">\n",
       "      <th></th>\n",
       "      <th>0</th>\n",
       "      <th>1</th>\n",
       "      <th>2</th>\n",
       "      <th>3</th>\n",
       "      <th>4</th>\n",
       "      <th>5</th>\n",
       "      <th>6</th>\n",
       "      <th>7</th>\n",
       "      <th>8</th>\n",
       "      <th>9</th>\n",
       "      <th>10</th>\n",
       "      <th>11</th>\n",
       "      <th>12</th>\n",
       "      <th>13</th>\n",
       "    </tr>\n",
       "  </thead>\n",
       "  <tbody>\n",
       "    <tr>\n",
       "      <th>count</th>\n",
       "      <td>20.000000</td>\n",
       "      <td>20.000000</td>\n",
       "      <td>20.000000</td>\n",
       "      <td>20.000000</td>\n",
       "      <td>20.000000</td>\n",
       "      <td>20.000000</td>\n",
       "      <td>20.000000</td>\n",
       "      <td>20.000000</td>\n",
       "      <td>20.000000</td>\n",
       "      <td>20.000000</td>\n",
       "      <td>20.000000</td>\n",
       "      <td>20.000000</td>\n",
       "      <td>20.000000</td>\n",
       "      <td>20.000000</td>\n",
       "    </tr>\n",
       "    <tr>\n",
       "      <th>mean</th>\n",
       "      <td>49.038077</td>\n",
       "      <td>50.036954</td>\n",
       "      <td>50.820059</td>\n",
       "      <td>49.705499</td>\n",
       "      <td>49.921586</td>\n",
       "      <td>48.768194</td>\n",
       "      <td>50.223719</td>\n",
       "      <td>50.155402</td>\n",
       "      <td>50.523221</td>\n",
       "      <td>50.116515</td>\n",
       "      <td>48.933195</td>\n",
       "      <td>50.598726</td>\n",
       "      <td>52.022569</td>\n",
       "      <td>51.128078</td>\n",
       "    </tr>\n",
       "    <tr>\n",
       "      <th>std</th>\n",
       "      <td>1.790575</td>\n",
       "      <td>1.610366</td>\n",
       "      <td>2.379454</td>\n",
       "      <td>1.929422</td>\n",
       "      <td>1.717547</td>\n",
       "      <td>2.181786</td>\n",
       "      <td>2.893081</td>\n",
       "      <td>1.512033</td>\n",
       "      <td>1.612180</td>\n",
       "      <td>2.458015</td>\n",
       "      <td>1.959280</td>\n",
       "      <td>1.736794</td>\n",
       "      <td>3.977690</td>\n",
       "      <td>3.614035</td>\n",
       "    </tr>\n",
       "    <tr>\n",
       "      <th>min</th>\n",
       "      <td>46.281074</td>\n",
       "      <td>46.991531</td>\n",
       "      <td>46.140718</td>\n",
       "      <td>46.217865</td>\n",
       "      <td>47.068848</td>\n",
       "      <td>43.746310</td>\n",
       "      <td>43.447965</td>\n",
       "      <td>46.836163</td>\n",
       "      <td>48.173459</td>\n",
       "      <td>45.631067</td>\n",
       "      <td>45.052689</td>\n",
       "      <td>46.634220</td>\n",
       "      <td>45.570267</td>\n",
       "      <td>44.734182</td>\n",
       "    </tr>\n",
       "    <tr>\n",
       "      <th>25%</th>\n",
       "      <td>47.537216</td>\n",
       "      <td>48.800109</td>\n",
       "      <td>49.447461</td>\n",
       "      <td>48.092224</td>\n",
       "      <td>48.739200</td>\n",
       "      <td>47.909243</td>\n",
       "      <td>48.971386</td>\n",
       "      <td>49.080128</td>\n",
       "      <td>49.295037</td>\n",
       "      <td>48.886470</td>\n",
       "      <td>47.335549</td>\n",
       "      <td>49.260620</td>\n",
       "      <td>49.169264</td>\n",
       "      <td>49.182331</td>\n",
       "    </tr>\n",
       "    <tr>\n",
       "      <th>50%</th>\n",
       "      <td>48.758646</td>\n",
       "      <td>50.303957</td>\n",
       "      <td>51.024719</td>\n",
       "      <td>50.148938</td>\n",
       "      <td>50.217983</td>\n",
       "      <td>49.116451</td>\n",
       "      <td>50.086447</td>\n",
       "      <td>50.011724</td>\n",
       "      <td>50.298219</td>\n",
       "      <td>49.762643</td>\n",
       "      <td>49.306743</td>\n",
       "      <td>50.748080</td>\n",
       "      <td>51.576727</td>\n",
       "      <td>50.743870</td>\n",
       "    </tr>\n",
       "    <tr>\n",
       "      <th>75%</th>\n",
       "      <td>50.437628</td>\n",
       "      <td>50.935115</td>\n",
       "      <td>52.309789</td>\n",
       "      <td>50.872605</td>\n",
       "      <td>51.345496</td>\n",
       "      <td>50.447756</td>\n",
       "      <td>51.701043</td>\n",
       "      <td>51.263684</td>\n",
       "      <td>51.489509</td>\n",
       "      <td>52.081637</td>\n",
       "      <td>50.369738</td>\n",
       "      <td>51.641517</td>\n",
       "      <td>55.020950</td>\n",
       "      <td>53.141587</td>\n",
       "    </tr>\n",
       "    <tr>\n",
       "      <th>max</th>\n",
       "      <td>51.775282</td>\n",
       "      <td>52.648897</td>\n",
       "      <td>54.826889</td>\n",
       "      <td>52.898246</td>\n",
       "      <td>52.148533</td>\n",
       "      <td>51.503530</td>\n",
       "      <td>54.768329</td>\n",
       "      <td>52.768476</td>\n",
       "      <td>54.006683</td>\n",
       "      <td>55.578823</td>\n",
       "      <td>51.980627</td>\n",
       "      <td>53.606409</td>\n",
       "      <td>60.476170</td>\n",
       "      <td>59.981233</td>\n",
       "    </tr>\n",
       "  </tbody>\n",
       "</table>\n",
       "</div>"
      ],
      "text/plain": [
       "              0          1          2          3          4          5   \\\n",
       "count  20.000000  20.000000  20.000000  20.000000  20.000000  20.000000   \n",
       "mean   49.038077  50.036954  50.820059  49.705499  49.921586  48.768194   \n",
       "std     1.790575   1.610366   2.379454   1.929422   1.717547   2.181786   \n",
       "min    46.281074  46.991531  46.140718  46.217865  47.068848  43.746310   \n",
       "25%    47.537216  48.800109  49.447461  48.092224  48.739200  47.909243   \n",
       "50%    48.758646  50.303957  51.024719  50.148938  50.217983  49.116451   \n",
       "75%    50.437628  50.935115  52.309789  50.872605  51.345496  50.447756   \n",
       "max    51.775282  52.648897  54.826889  52.898246  52.148533  51.503530   \n",
       "\n",
       "              6          7          8          9          10         11  \\\n",
       "count  20.000000  20.000000  20.000000  20.000000  20.000000  20.000000   \n",
       "mean   50.223719  50.155402  50.523221  50.116515  48.933195  50.598726   \n",
       "std     2.893081   1.512033   1.612180   2.458015   1.959280   1.736794   \n",
       "min    43.447965  46.836163  48.173459  45.631067  45.052689  46.634220   \n",
       "25%    48.971386  49.080128  49.295037  48.886470  47.335549  49.260620   \n",
       "50%    50.086447  50.011724  50.298219  49.762643  49.306743  50.748080   \n",
       "75%    51.701043  51.263684  51.489509  52.081637  50.369738  51.641517   \n",
       "max    54.768329  52.768476  54.006683  55.578823  51.980627  53.606409   \n",
       "\n",
       "              12         13  \n",
       "count  20.000000  20.000000  \n",
       "mean   52.022569  51.128078  \n",
       "std     3.977690   3.614035  \n",
       "min    45.570267  44.734182  \n",
       "25%    49.169264  49.182331  \n",
       "50%    51.576727  50.743870  \n",
       "75%    55.020950  53.141587  \n",
       "max    60.476170  59.981233  "
      ]
     },
     "execution_count": 8,
     "metadata": {},
     "output_type": "execute_result"
    }
   ],
   "source": [
    "dftrain = pd.DataFrame(X_train ,y_train) \n",
    "dftrain.info()\n",
    "dftrain.describe()\n",
    "dftrain = pd.DataFrame(X_test ,y_test)\n",
    "dftrain.info() \n",
    "dftrain.describe()"
   ]
  },
  {
   "cell_type": "markdown",
   "id": "3c6e3257",
   "metadata": {},
   "source": [
    "# Assembly models"
   ]
  },
  {
   "cell_type": "code",
   "execution_count": 9,
   "id": "1f074d2c",
   "metadata": {},
   "outputs": [],
   "source": [
    "from sklearn.ensemble import BaggingClassifier\n",
    "from sklearn.tree import DecisionTreeClassifier"
   ]
  },
  {
   "cell_type": "markdown",
   "id": "2cc16475",
   "metadata": {},
   "source": [
    "## BagginClassifier"
   ]
  },
  {
   "cell_type": "code",
   "execution_count": 10,
   "id": "55b2e504",
   "metadata": {},
   "outputs": [],
   "source": [
    "bag_clf = BaggingClassifier(\n",
    "    DecisionTreeClassifier(random_state = 3), n_estimators =500,\n",
    "    max_samples = 75, bootstrap=True, random_state = 3)"
   ]
  },
  {
   "cell_type": "markdown",
   "id": "632430b0",
   "metadata": {},
   "source": [
    "### Adjust Model"
   ]
  },
  {
   "cell_type": "code",
   "execution_count": 11,
   "id": "bf4b85d6",
   "metadata": {},
   "outputs": [],
   "source": [
    "bag_clf.fit(X_train, y_train)\n",
    "y_pred = bag_clf.predict(X_test)"
   ]
  },
  {
   "cell_type": "markdown",
   "id": "4e9443ec",
   "metadata": {},
   "source": [
    "### Result"
   ]
  },
  {
   "cell_type": "code",
   "execution_count": 12,
   "id": "f09b48c9",
   "metadata": {},
   "outputs": [
    {
     "name": "stdout",
     "output_type": "stream",
     "text": [
      "0.75\n"
     ]
    }
   ],
   "source": [
    "from sklearn.metrics import accuracy_score\n",
    "print(accuracy_score(y_test, y_pred))"
   ]
  },
  {
   "cell_type": "markdown",
   "id": "811f6bc8",
   "metadata": {},
   "source": [
    "## Pasting"
   ]
  },
  {
   "cell_type": "code",
   "execution_count": 13,
   "id": "8809b778",
   "metadata": {},
   "outputs": [],
   "source": [
    "pas_clf = BaggingClassifier (\n",
    "DecisionTreeClassifier ( random_state = 3) , n_estimators = 500 ,\n",
    "max_samples = 75 , bootstrap = False , random_state = 3)"
   ]
  },
  {
   "cell_type": "markdown",
   "id": "0d0fbdaf",
   "metadata": {},
   "source": [
    "### Adjust Model"
   ]
  },
  {
   "cell_type": "code",
   "execution_count": 14,
   "id": "7ecb2b8d",
   "metadata": {},
   "outputs": [
    {
     "data": {
      "text/html": [
       "<style>#sk-container-id-1 {color: black;background-color: white;}#sk-container-id-1 pre{padding: 0;}#sk-container-id-1 div.sk-toggleable {background-color: white;}#sk-container-id-1 label.sk-toggleable__label {cursor: pointer;display: block;width: 100%;margin-bottom: 0;padding: 0.3em;box-sizing: border-box;text-align: center;}#sk-container-id-1 label.sk-toggleable__label-arrow:before {content: \"▸\";float: left;margin-right: 0.25em;color: #696969;}#sk-container-id-1 label.sk-toggleable__label-arrow:hover:before {color: black;}#sk-container-id-1 div.sk-estimator:hover label.sk-toggleable__label-arrow:before {color: black;}#sk-container-id-1 div.sk-toggleable__content {max-height: 0;max-width: 0;overflow: hidden;text-align: left;background-color: #f0f8ff;}#sk-container-id-1 div.sk-toggleable__content pre {margin: 0.2em;color: black;border-radius: 0.25em;background-color: #f0f8ff;}#sk-container-id-1 input.sk-toggleable__control:checked~div.sk-toggleable__content {max-height: 200px;max-width: 100%;overflow: auto;}#sk-container-id-1 input.sk-toggleable__control:checked~label.sk-toggleable__label-arrow:before {content: \"▾\";}#sk-container-id-1 div.sk-estimator input.sk-toggleable__control:checked~label.sk-toggleable__label {background-color: #d4ebff;}#sk-container-id-1 div.sk-label input.sk-toggleable__control:checked~label.sk-toggleable__label {background-color: #d4ebff;}#sk-container-id-1 input.sk-hidden--visually {border: 0;clip: rect(1px 1px 1px 1px);clip: rect(1px, 1px, 1px, 1px);height: 1px;margin: -1px;overflow: hidden;padding: 0;position: absolute;width: 1px;}#sk-container-id-1 div.sk-estimator {font-family: monospace;background-color: #f0f8ff;border: 1px dotted black;border-radius: 0.25em;box-sizing: border-box;margin-bottom: 0.5em;}#sk-container-id-1 div.sk-estimator:hover {background-color: #d4ebff;}#sk-container-id-1 div.sk-parallel-item::after {content: \"\";width: 100%;border-bottom: 1px solid gray;flex-grow: 1;}#sk-container-id-1 div.sk-label:hover label.sk-toggleable__label {background-color: #d4ebff;}#sk-container-id-1 div.sk-serial::before {content: \"\";position: absolute;border-left: 1px solid gray;box-sizing: border-box;top: 0;bottom: 0;left: 50%;z-index: 0;}#sk-container-id-1 div.sk-serial {display: flex;flex-direction: column;align-items: center;background-color: white;padding-right: 0.2em;padding-left: 0.2em;position: relative;}#sk-container-id-1 div.sk-item {position: relative;z-index: 1;}#sk-container-id-1 div.sk-parallel {display: flex;align-items: stretch;justify-content: center;background-color: white;position: relative;}#sk-container-id-1 div.sk-item::before, #sk-container-id-1 div.sk-parallel-item::before {content: \"\";position: absolute;border-left: 1px solid gray;box-sizing: border-box;top: 0;bottom: 0;left: 50%;z-index: -1;}#sk-container-id-1 div.sk-parallel-item {display: flex;flex-direction: column;z-index: 1;position: relative;background-color: white;}#sk-container-id-1 div.sk-parallel-item:first-child::after {align-self: flex-end;width: 50%;}#sk-container-id-1 div.sk-parallel-item:last-child::after {align-self: flex-start;width: 50%;}#sk-container-id-1 div.sk-parallel-item:only-child::after {width: 0;}#sk-container-id-1 div.sk-dashed-wrapped {border: 1px dashed gray;margin: 0 0.4em 0.5em 0.4em;box-sizing: border-box;padding-bottom: 0.4em;background-color: white;}#sk-container-id-1 div.sk-label label {font-family: monospace;font-weight: bold;display: inline-block;line-height: 1.2em;}#sk-container-id-1 div.sk-label-container {text-align: center;}#sk-container-id-1 div.sk-container {/* jupyter's `normalize.less` sets `[hidden] { display: none; }` but bootstrap.min.css set `[hidden] { display: none !important; }` so we also need the `!important` here to be able to override the default hidden behavior on the sphinx rendered scikit-learn.org. See: https://github.com/scikit-learn/scikit-learn/issues/21755 */display: inline-block !important;position: relative;}#sk-container-id-1 div.sk-text-repr-fallback {display: none;}</style><div id=\"sk-container-id-1\" class=\"sk-top-container\"><div class=\"sk-text-repr-fallback\"><pre>BaggingClassifier(bootstrap=False,\n",
       "                  estimator=DecisionTreeClassifier(random_state=3),\n",
       "                  max_samples=75, n_estimators=500, random_state=3)</pre><b>In a Jupyter environment, please rerun this cell to show the HTML representation or trust the notebook. <br />On GitHub, the HTML representation is unable to render, please try loading this page with nbviewer.org.</b></div><div class=\"sk-container\" hidden><div class=\"sk-item sk-dashed-wrapped\"><div class=\"sk-label-container\"><div class=\"sk-label sk-toggleable\"><input class=\"sk-toggleable__control sk-hidden--visually\" id=\"sk-estimator-id-1\" type=\"checkbox\" ><label for=\"sk-estimator-id-1\" class=\"sk-toggleable__label sk-toggleable__label-arrow\">BaggingClassifier</label><div class=\"sk-toggleable__content\"><pre>BaggingClassifier(bootstrap=False,\n",
       "                  estimator=DecisionTreeClassifier(random_state=3),\n",
       "                  max_samples=75, n_estimators=500, random_state=3)</pre></div></div></div><div class=\"sk-parallel\"><div class=\"sk-parallel-item\"><div class=\"sk-item\"><div class=\"sk-label-container\"><div class=\"sk-label sk-toggleable\"><input class=\"sk-toggleable__control sk-hidden--visually\" id=\"sk-estimator-id-2\" type=\"checkbox\" ><label for=\"sk-estimator-id-2\" class=\"sk-toggleable__label sk-toggleable__label-arrow\">estimator: DecisionTreeClassifier</label><div class=\"sk-toggleable__content\"><pre>DecisionTreeClassifier(random_state=3)</pre></div></div></div><div class=\"sk-serial\"><div class=\"sk-item\"><div class=\"sk-estimator sk-toggleable\"><input class=\"sk-toggleable__control sk-hidden--visually\" id=\"sk-estimator-id-3\" type=\"checkbox\" ><label for=\"sk-estimator-id-3\" class=\"sk-toggleable__label sk-toggleable__label-arrow\">DecisionTreeClassifier</label><div class=\"sk-toggleable__content\"><pre>DecisionTreeClassifier(random_state=3)</pre></div></div></div></div></div></div></div></div></div></div>"
      ],
      "text/plain": [
       "BaggingClassifier(bootstrap=False,\n",
       "                  estimator=DecisionTreeClassifier(random_state=3),\n",
       "                  max_samples=75, n_estimators=500, random_state=3)"
      ]
     },
     "execution_count": 14,
     "metadata": {},
     "output_type": "execute_result"
    }
   ],
   "source": [
    "pas_clf.fit ( X_train , y_train )"
   ]
  },
  {
   "cell_type": "code",
   "execution_count": 15,
   "id": "50b55e4f",
   "metadata": {},
   "outputs": [
    {
     "name": "stdout",
     "output_type": "stream",
     "text": [
      "0.75\n"
     ]
    }
   ],
   "source": [
    "y_pred_pas = pas_clf.predict ( X_test )\n",
    "print (accuracy_score(y_test , y_pred_pas))"
   ]
  },
  {
   "cell_type": "markdown",
   "id": "8bd669df",
   "metadata": {},
   "source": [
    "## Assembly model Ramdom Forest"
   ]
  },
  {
   "cell_type": "code",
   "execution_count": 16,
   "id": "4ecccd35",
   "metadata": {},
   "outputs": [],
   "source": [
    "from sklearn . ensemble import RandomForestClassifier\n",
    "rnd_clf = RandomForestClassifier ( n_estimators = 500 , max_leaf_nodes =\n",
    "4 , random_state = 3 , max_samples = 75)"
   ]
  },
  {
   "cell_type": "markdown",
   "id": "a419f813",
   "metadata": {},
   "source": [
    "### Adjust model"
   ]
  },
  {
   "cell_type": "code",
   "execution_count": 17,
   "id": "57608f6f",
   "metadata": {},
   "outputs": [
    {
     "name": "stdout",
     "output_type": "stream",
     "text": [
      "0.75\n"
     ]
    }
   ],
   "source": [
    "rnd_clf.fit(X_train,y_train)\n",
    "y_pred_rf = rnd_clf . predict ( X_test )\n",
    "print(accuracy_score(y_test,y_pred_rf))"
   ]
  },
  {
   "cell_type": "markdown",
   "id": "cbbff862",
   "metadata": {},
   "source": [
    "## Assembly model Gradient Boosting"
   ]
  },
  {
   "cell_type": "code",
   "execution_count": 18,
   "id": "14a24b4d",
   "metadata": {},
   "outputs": [],
   "source": [
    "from sklearn.ensemble import GradientBoostingClassifier\n",
    "gb_clf = GradientBoostingClassifier ( n_estimators = 500 , random_state= 3)"
   ]
  },
  {
   "cell_type": "markdown",
   "id": "21961460",
   "metadata": {},
   "source": [
    "### Adjust model"
   ]
  },
  {
   "cell_type": "code",
   "execution_count": 18,
   "id": "f2428d69",
   "metadata": {},
   "outputs": [
    {
     "name": "stdout",
     "output_type": "stream",
     "text": [
      "0.85\n"
     ]
    }
   ],
   "source": [
    "gb_clf.fit (X_train,y_train ) \n",
    "y_pred_gb = gb_clf.predict ( X_test ) \n",
    "print(accuracy_score(y_test,y_pred_gb))"
   ]
  },
  {
   "cell_type": "markdown",
   "id": "87120e23",
   "metadata": {},
   "source": [
    "## Analysis"
   ]
  },
  {
   "cell_type": "code",
   "execution_count": 1,
   "id": "99212155",
   "metadata": {},
   "outputs": [
    {
     "ename": "NameError",
     "evalue": "name 'pd' is not defined",
     "output_type": "error",
     "traceback": [
      "\u001b[0;31m---------------------------------------------------------------------------\u001b[0m",
      "\u001b[0;31mNameError\u001b[0m                                 Traceback (most recent call last)",
      "Cell \u001b[0;32mIn[1], line 1\u001b[0m\n\u001b[0;32m----> 1\u001b[0m df \u001b[38;5;241m=\u001b[39m pd\u001b[38;5;241m.\u001b[39mDataFrame({\u001b[38;5;124m\"\u001b[39m\u001b[38;5;124my_test\u001b[39m\u001b[38;5;124m\"\u001b[39m: y_test,\u001b[38;5;124m\"\u001b[39m\u001b[38;5;124my_pred_bc\u001b[39m\u001b[38;5;124m\"\u001b[39m: y_pred_bc, \u001b[38;5;124m\"\u001b[39m\u001b[38;5;124my_pred_pas\u001b[39m\u001b[38;5;124m\"\u001b[39m:y_pred_pas, \u001b[38;5;124m\"\u001b[39m\u001b[38;5;124my_pred_rf\u001b[39m\u001b[38;5;124m\"\u001b[39m:y_pred_rf,\u001b[38;5;124m\"\u001b[39m\u001b[38;5;124my_pred_gb\u001b[39m\u001b[38;5;124m\"\u001b[39m:y_pred_gb})\n\u001b[1;32m      2\u001b[0m \u001b[38;5;28mprint\u001b[39m()\n\u001b[1;32m      3\u001b[0m \u001b[38;5;28mprint\u001b[39m(\u001b[38;5;124m'\u001b[39m\u001b[38;5;124m y_test     = Data Testing\u001b[39m\u001b[38;5;130;01m\\n\u001b[39;00m\u001b[38;5;124m'\u001b[39m,\n\u001b[1;32m      4\u001b[0m       \u001b[38;5;124m'\u001b[39m\u001b[38;5;124my_pred     = Baggin Classifier\u001b[39m\u001b[38;5;130;01m\\n\u001b[39;00m\u001b[38;5;124m'\u001b[39m,\n\u001b[1;32m      5\u001b[0m       \u001b[38;5;124m'\u001b[39m\u001b[38;5;124my_pred_pas = Pasting\u001b[39m\u001b[38;5;130;01m\\n\u001b[39;00m\u001b[38;5;124m'\u001b[39m,\n\u001b[1;32m      6\u001b[0m       \u001b[38;5;124m'\u001b[39m\u001b[38;5;124my_pred_rf  = Random Forest\u001b[39m\u001b[38;5;130;01m\\n\u001b[39;00m\u001b[38;5;124m'\u001b[39m,\n\u001b[1;32m      7\u001b[0m       \u001b[38;5;124m'\u001b[39m\u001b[38;5;124my_pred_gb  = Gradient Boosting\u001b[39m\u001b[38;5;124m'\u001b[39m\n\u001b[1;32m      8\u001b[0m      )\n",
      "\u001b[0;31mNameError\u001b[0m: name 'pd' is not defined"
     ]
    }
   ],
   "source": [
    "df = pd.DataFrame({\"y_test\": y_test,\"y_pred_bc\": y_pred_bc, \"y_pred_pas\":y_pred_pas, \"y_pred_rf\":y_pred_rf,\"y_pred_gb\":y_pred_gb})\n",
    "print()\n",
    "print(' y_test     = Data Testing\\n',\n",
    "      'y_pred     = Baggin Classifier\\n',\n",
    "      'y_pred_pas = Pasting\\n',\n",
    "      'y_pred_rf  = Random Forest\\n',\n",
    "      'y_pred_gb  = Gradient Boosting'\n",
    "     )\n",
    "df.head(15)"
   ]
  },
  {
   "cell_type": "code",
   "execution_count": null,
   "id": "ca4be1a4",
   "metadata": {},
   "outputs": [],
   "source": []
  }
 ],
 "metadata": {
  "kernelspec": {
   "display_name": "Python 3 (ipykernel)",
   "language": "python",
   "name": "python3"
  },
  "language_info": {
   "codemirror_mode": {
    "name": "ipython",
    "version": 3
   },
   "file_extension": ".py",
   "mimetype": "text/x-python",
   "name": "python",
   "nbconvert_exporter": "python",
   "pygments_lexer": "ipython3",
   "version": "3.11.7"
  },
  "toc": {
   "base_numbering": 1,
   "nav_menu": {},
   "number_sections": true,
   "sideBar": true,
   "skip_h1_title": false,
   "title_cell": "Table of Contents",
   "title_sidebar": "Contents",
   "toc_cell": false,
   "toc_position": {},
   "toc_section_display": true,
   "toc_window_display": false
  }
 },
 "nbformat": 4,
 "nbformat_minor": 5
}
